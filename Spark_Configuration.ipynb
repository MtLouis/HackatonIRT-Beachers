{
 "cells": [
  {
   "cell_type": "code",
   "execution_count": 1,
   "metadata": {},
   "outputs": [
    {
     "data": {
      "text/plain": [
       "<pyspark.context.SparkContext at 0x7f109c041d68>"
      ]
     },
     "execution_count": 1,
     "metadata": {},
     "output_type": "execute_result"
    }
   ],
   "source": [
    "sc"
   ]
  },
  {
   "cell_type": "code",
   "execution_count": 2,
   "metadata": {},
   "outputs": [
    {
     "data": {
      "text/plain": [
       "<pyspark.sql.context.SQLContext at 0x7f108c5ada90>"
      ]
     },
     "execution_count": 2,
     "metadata": {},
     "output_type": "execute_result"
    }
   ],
   "source": [
    "sqlContext"
   ]
  },
  {
   "cell_type": "code",
   "execution_count": 3,
   "metadata": {},
   "outputs": [
    {
     "name": "stdout",
     "output_type": "stream",
     "text": [
      "01_Spark_ML_tutorial.ipynb  eightieth.h5  Spark Configuration.ipynb\r\n"
     ]
    }
   ],
   "source": [
    "!ls"
   ]
  },
  {
   "cell_type": "code",
   "execution_count": 19,
   "metadata": {
    "collapsed": true
   },
   "outputs": [],
   "source": [
    "import pandas as pd"
   ]
  },
  {
   "cell_type": "code",
   "execution_count": 4,
   "metadata": {
    "collapsed": true
   },
   "outputs": [],
   "source": [
    "import h5py\n",
    "f = h5py.File(\"eightieth.h5\", 'r')"
   ]
  },
  {
   "cell_type": "code",
   "execution_count": 5,
   "metadata": {
    "collapsed": true
   },
   "outputs": [],
   "source": [
    "picture, labels = f[\"S2\"], f[\"TOP_LANDCOVER\"]"
   ]
  },
  {
   "cell_type": "code",
   "execution_count": 22,
   "metadata": {},
   "outputs": [
    {
     "name": "stdout",
     "output_type": "stream",
     "text": [
      "CPU times: user 53.8 s, sys: 521 ms, total: 54.3 s\n",
      "Wall time: 54.3 s\n"
     ]
    }
   ],
   "source": [
    "%%time\n",
    "ims = list()\n",
    "lbls = list()\n",
    "\n",
    "for i in range(picture.shape[0]):\n",
    "    im = picture[i,::]\n",
    "    lbl = labels[i]\n",
    "    \n",
    "    ims.append(im)\n",
    "    lbls.append(lbl)\n",
    "    "
   ]
  },
  {
   "cell_type": "code",
   "execution_count": 21,
   "metadata": {},
   "outputs": [
    {
     "data": {
      "text/html": [
       "<div>\n",
       "<style>\n",
       "    .dataframe thead tr:only-child th {\n",
       "        text-align: right;\n",
       "    }\n",
       "\n",
       "    .dataframe thead th {\n",
       "        text-align: left;\n",
       "    }\n",
       "\n",
       "    .dataframe tbody tr th {\n",
       "        vertical-align: top;\n",
       "    }\n",
       "</style>\n",
       "<table border=\"1\" class=\"dataframe\">\n",
       "  <thead>\n",
       "    <tr style=\"text-align: right;\">\n",
       "      <th></th>\n",
       "      <th>0</th>\n",
       "    </tr>\n",
       "  </thead>\n",
       "  <tbody>\n",
       "    <tr>\n",
       "      <th>0</th>\n",
       "      <td>12.0</td>\n",
       "    </tr>\n",
       "  </tbody>\n",
       "</table>\n",
       "</div>"
      ],
      "text/plain": [
       "      0\n",
       "0  12.0"
      ]
     },
     "execution_count": 21,
     "metadata": {},
     "output_type": "execute_result"
    }
   ],
   "source": []
  },
  {
   "cell_type": "code",
   "execution_count": 10,
   "metadata": {},
   "outputs": [],
   "source": [
    "data = sc.parallelize(zip(ims, lbls))"
   ]
  },
  {
   "cell_type": "code",
   "execution_count": 15,
   "metadata": {},
   "outputs": [
    {
     "data": {
      "text/plain": [
       "[(array([[[  697.,   930.,   974.,  2660.],\n",
       "          [  582.,   882.,   924.,  2573.],\n",
       "          [  551.,   860.,   883.,  2644.],\n",
       "          ..., \n",
       "          [ 1038.,  1066.,  1090.,  2389.],\n",
       "          [  799.,   962.,   988.,  2423.],\n",
       "          [ 1066.,  1088.,  1126.,  2528.]],\n",
       "  \n",
       "         [[  578.,   849.,   917.,  2545.],\n",
       "          [  523.,   859.,   895.,  2680.],\n",
       "          [  492.,   825.,   880.,  2774.],\n",
       "          ..., \n",
       "          [  959.,  1027.,  1081.,  2425.],\n",
       "          [  810.,   962.,   995.,  2354.],\n",
       "          [  722.,   924.,   966.,  2459.]],\n",
       "  \n",
       "         [[  568.,   834.,   898.,  2390.],\n",
       "          [  538.,   851.,   899.,  2666.],\n",
       "          [  500.,   835.,   875.,  2712.],\n",
       "          ..., \n",
       "          [  820.,   990.,  1027.,  2531.],\n",
       "          [  719.,   922.,   984.,  2386.],\n",
       "          [  586.,   871.,   891.,  2716.]],\n",
       "  \n",
       "         ..., \n",
       "         [[  501.,   868.,   883.,  2721.],\n",
       "          [  520.,   847.,   877.,  2927.],\n",
       "          [  701.,   936.,   972.,  2793.],\n",
       "          ..., \n",
       "          [  603.,   898.,   920.,  2609.],\n",
       "          [  632.,   906.,   938.,  2567.],\n",
       "          [  641.,   890.,   933.,  2698.]],\n",
       "  \n",
       "         [[  491.,   829.,   871.,  2868.],\n",
       "          [  562.,   864.,   891.,  2880.],\n",
       "          [  784.,   971.,  1007.,  2735.],\n",
       "          ..., \n",
       "          [  577.,   883.,   910.,  2810.],\n",
       "          [  681.,   923.,   943.,  2765.],\n",
       "          [  622.,   915.,   917.,  2748.]],\n",
       "  \n",
       "         [[  577.,   855.,   909.,  2777.],\n",
       "          [  558.,   827.,   889.,  2492.],\n",
       "          [  584.,   828.,   898.,  2533.],\n",
       "          ..., \n",
       "          [  519.,   854.,   866.,  3064.],\n",
       "          [  677.,   950.,   953.,  2959.],\n",
       "          [  630.,   925.,   925.,  2664.]]], dtype=float32),\n",
       "  array([ 12.], dtype=float32))]"
      ]
     },
     "execution_count": 15,
     "metadata": {},
     "output_type": "execute_result"
    }
   ],
   "source": [
    "data.collect()\n"
   ]
  },
  {
   "cell_type": "code",
   "execution_count": 13,
   "metadata": {},
   "outputs": [
    {
     "data": {
      "text/plain": [
       "234000"
      ]
     },
     "execution_count": 13,
     "metadata": {},
     "output_type": "execute_result"
    }
   ],
   "source": [
    "picture.shape[0]"
   ]
  },
  {
   "cell_type": "code",
   "execution_count": null,
   "metadata": {
    "collapsed": true
   },
   "outputs": [],
   "source": []
  }
 ],
 "metadata": {
  "kernelspec": {
   "display_name": "Python 3",
   "language": "python",
   "name": "python3"
  },
  "language_info": {
   "codemirror_mode": {
    "name": "ipython",
    "version": 3
   },
   "file_extension": ".py",
   "mimetype": "text/x-python",
   "name": "python",
   "nbconvert_exporter": "python",
   "pygments_lexer": "ipython3",
   "version": "3.5.4"
  }
 },
 "nbformat": 4,
 "nbformat_minor": 2
}
